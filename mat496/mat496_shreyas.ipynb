{
  "cells": [
    {
      "cell_type": "code",
      "execution_count": 1,
      "metadata": {
        "id": "Qtgb_-r7t64V"
      },
      "outputs": [],
      "source": [
        "import torch"
      ]
    },
    {
      "cell_type": "code",
      "execution_count": 2,
      "metadata": {
        "id": "DsEKfhbx-Sq8"
      },
      "outputs": [],
      "source": [
        "tensor0d = torch.tensor(1.0)\n",
        "tensor1d = torch.tensor([1.0,2,3])\n",
        "tensor2d = torch.tensor([[1.0,2,3],[4,5,6]])\n",
        "tensor3d =  torch.tensor([[[1.0,2,3],[4,5,6]],[[7,8,9],[10,11,12]]])"
      ]
    },
    {
      "cell_type": "code",
      "execution_count": 3,
      "metadata": {
        "colab": {
          "base_uri": "https://localhost:8080/"
        },
        "id": "DyNecj1-CEPg",
        "outputId": "528d995e-6781-4d0c-d398-8f72c6cbe335"
      },
      "outputs": [
        {
          "name": "stdout",
          "output_type": "stream",
          "text": [
            "torch.float32\n"
          ]
        }
      ],
      "source": [
        "print(tensor3d.dtype)"
      ]
    },
    {
      "cell_type": "code",
      "execution_count": 4,
      "metadata": {
        "id": "XkBxLP1FCMtA"
      },
      "outputs": [],
      "source": [
        "# tensor3d.ty"
      ]
    },
    {
      "cell_type": "code",
      "execution_count": 5,
      "metadata": {
        "colab": {
          "base_uri": "https://localhost:8080/"
        },
        "id": "EZVXnO-8DD7M",
        "outputId": "e2b3a327-4038-48d1-fa77-440e3fbad7d8"
      },
      "outputs": [
        {
          "name": "stdout",
          "output_type": "stream",
          "text": [
            "tensor([[[ 1.,  2.,  3.],\n",
            "         [ 4.,  5.,  6.]],\n",
            "\n",
            "        [[ 7.,  8.,  9.],\n",
            "         [10., 11., 12.]]])\n",
            "torch.Size([2, 2, 3])\n",
            "torch.Size([3, 2, 2])\n",
            "tensor([[[ 1.,  2.],\n",
            "         [ 3.,  4.]],\n",
            "\n",
            "        [[ 5.,  6.],\n",
            "         [ 7.,  8.]],\n",
            "\n",
            "        [[ 9., 10.],\n",
            "         [11., 12.]]])\n",
            "torch.Size([2, 2, 2, 2])\n"
          ]
        }
      ],
      "source": [
        "print(tensor3d)\n",
        "print(tensor3d.shape)\n",
        "# tensor mutiplication\n",
        "x=tensor3d.reshape(3,2,2)\n",
        "print(x.shape)\n",
        "print(x)\n",
        "y = torch.tensordot(tensor3d,x,1)\n",
        "print(y.shape)"
      ]
    },
    {
      "cell_type": "code",
      "execution_count": 6,
      "metadata": {
        "colab": {
          "base_uri": "https://localhost:8080/"
        },
        "id": "zODHkqywDL1G",
        "outputId": "14e441c6-b543-434d-b572-79202e184992"
      },
      "outputs": [
        {
          "name": "stdout",
          "output_type": "stream",
          "text": [
            "tensor([[1., 2., 3.],\n",
            "        [4., 5., 6.]])\n",
            "tensor([[1., 4.],\n",
            "        [2., 5.],\n",
            "        [3., 6.]])\n",
            "tensor([[14., 32.],\n",
            "        [32., 77.]])\n",
            "tensor([[14., 32.],\n",
            "        [32., 77.]])\n"
          ]
        }
      ],
      "source": [
        "# 2d tensor multiplicaiton\n",
        "# can be done as shown above (contracting over 1 dimension)\n",
        "# or as shown below\n",
        "print(tensor2d)\n",
        "print(tensor2d.T)\n",
        "print(torch.matmul(tensor2d,tensor2d.T))\n",
        "print(tensor2d @ tensor2d.T)"
      ]
    },
    {
      "cell_type": "code",
      "execution_count": 7,
      "metadata": {
        "colab": {
          "base_uri": "https://localhost:8080/"
        },
        "id": "op7q53QCJ1_r",
        "outputId": "4b2075d8-2558-4ffa-80fa-f8ecbe9c129c"
      },
      "outputs": [
        {
          "name": "stdout",
          "output_type": "stream",
          "text": [
            "tensor(0.0852)\n"
          ]
        }
      ],
      "source": [
        "from torch.nn.functional import binary_cross_entropy as bce\n",
        "y = torch.tensor(1.0)\n",
        "x1 = torch.tensor(1.1)\n",
        "w1 = torch.tensor(2.2)\n",
        "b = torch.tensor(0.0)\n",
        "z = x1 * w1 + b\n",
        "a = torch.sigmoid(z)\n",
        "loss = bce(a,y)\n",
        "print(loss)"
      ]
    },
    {
      "cell_type": "code",
      "execution_count": 8,
      "metadata": {
        "colab": {
          "base_uri": "https://localhost:8080/"
        },
        "id": "YpA3irWfPglz",
        "outputId": "f4949e1a-4b07-4933-c5bd-ef06db8f4847"
      },
      "outputs": [
        {
          "name": "stdout",
          "output_type": "stream",
          "text": [
            "(tensor(-0.0898),)\n",
            "(tensor(-0.0817),)\n",
            "tensor(-0.0898)\n",
            "tensor(-0.0817)\n"
          ]
        }
      ],
      "source": [
        "# A.4 Computing Gradients via autograd\n",
        "from torch.autograd import grad\n",
        "\n",
        "y = torch.tensor(1.0)\n",
        "x1 = torch.tensor(1.1)\n",
        "w1 = torch.tensor(2.2, requires_grad = True)\n",
        "b = torch.tensor(0.0, requires_grad = True)\n",
        "\n",
        "z = x1 * w1 + b\n",
        "a = torch.sigmoid (z)\n",
        "loss = bce(a,y)\n",
        "\n",
        "grad_L_w1 = grad(loss, w1, retain_graph = True)\n",
        "grad_L_b = grad(loss, b, retain_graph = True)\n",
        "print(grad_L_w1)\n",
        "print(grad_L_b)\n",
        "\n",
        "loss.backward()\n",
        "print(w1.grad)\n",
        "print(b.grad)"
      ]
    },
    {
      "cell_type": "code",
      "execution_count": 9,
      "metadata": {
        "id": "oH8riVarBk23"
      },
      "outputs": [],
      "source": [
        "class NeuralNetwork (torch.nn.Module):\n",
        "    def __init__(self, num_inputs, num_outputs):\n",
        "        super().__init__()\n",
        "\n",
        "        self.layers = torch.nn.Sequential(\n",
        "            # first hiddel layer\n",
        "            torch.nn.Linear(num_inputs, 30),\n",
        "            torch.nn.ReLU(),\n",
        "\n",
        "            #2nd hidned layeyr\n",
        "            torch.nn.Linear(30,20),\n",
        "            torch.nn.ReLU(),\n",
        "            # outpt layer\n",
        "            torch.nn.Linear(20, num_outputs)\n",
        "        )\n",
        "    def forward(self, x):\n",
        "        logits = self.layers(x)\n",
        "        return logits\n"
      ]
    },
    {
      "cell_type": "code",
      "execution_count": 10,
      "metadata": {
        "colab": {
          "base_uri": "https://localhost:8080/"
        },
        "id": "T4Z9b_7xPO5S",
        "outputId": "d4a5b0bb-15fe-4df6-fe23-776d3673f432"
      },
      "outputs": [
        {
          "name": "stdout",
          "output_type": "stream",
          "text": [
            "NeuralNetwork(\n",
            "  (layers): Sequential(\n",
            "    (0): Linear(in_features=50, out_features=30, bias=True)\n",
            "    (1): ReLU()\n",
            "    (2): Linear(in_features=30, out_features=20, bias=True)\n",
            "    (3): ReLU()\n",
            "    (4): Linear(in_features=20, out_features=3, bias=True)\n",
            "  )\n",
            ")\n"
          ]
        }
      ],
      "source": [
        "model = NeuralNetwork(50, 3)\n",
        "print(model)"
      ]
    },
    {
      "cell_type": "code",
      "execution_count": 11,
      "metadata": {
        "colab": {
          "base_uri": "https://localhost:8080/"
        },
        "id": "nYLe34GePV9a",
        "outputId": "51cc75b5-4758-4726-d03e-e36ed5325b63"
      },
      "outputs": [
        {
          "name": "stdout",
          "output_type": "stream",
          "text": [
            "Number of trainable model paramerers: 2213\n"
          ]
        }
      ],
      "source": [
        "num_params = sum(p.numel() for p in model.parameters() if p.requires_grad)\n",
        "print('Number of trainable model paramerers:', num_params)"
      ]
    },
    {
      "cell_type": "code",
      "execution_count": 12,
      "metadata": {
        "colab": {
          "base_uri": "https://localhost:8080/"
        },
        "id": "sYHrlIFfNAud",
        "outputId": "9793226b-f0a3-4927-ec44-cc322b25a31b"
      },
      "outputs": [
        {
          "name": "stdout",
          "output_type": "stream",
          "text": [
            "torch.Size([30, 50])\n"
          ]
        }
      ],
      "source": [
        "print(model.layers[0].weight.shape)"
      ]
    },
    {
      "cell_type": "code",
      "execution_count": 13,
      "metadata": {
        "colab": {
          "base_uri": "https://localhost:8080/"
        },
        "id": "SVDdk8-DPLc4",
        "outputId": "a064645a-5b94-4b48-ff46-857146ca3003"
      },
      "outputs": [
        {
          "data": {
            "text/plain": [
              "torch.Size([30])"
            ]
          },
          "execution_count": 13,
          "metadata": {},
          "output_type": "execute_result"
        }
      ],
      "source": [
        "model.layers[0].bias.shape"
      ]
    },
    {
      "cell_type": "code",
      "execution_count": null,
      "metadata": {
        "colab": {
          "base_uri": "https://localhost:8080/"
        },
        "id": "TH7oshg5PjBy",
        "outputId": "e0261cdc-2700-40d5-f48b-d704983eee3e"
      },
      "outputs": [
        {
          "name": "stdout",
          "output_type": "stream",
          "text": [
            "Parameter containing:\n",
            "tensor([[-0.0577,  0.0047, -0.0702,  ...,  0.0222,  0.1260,  0.0865],\n",
            "        [ 0.0502,  0.0307,  0.0333,  ...,  0.0951,  0.1134, -0.0297],\n",
            "        [ 0.1077, -0.1108,  0.0122,  ...,  0.0108, -0.1049, -0.1063],\n",
            "        ...,\n",
            "        [-0.0787,  0.1259,  0.0803,  ...,  0.1218,  0.1303, -0.1351],\n",
            "        [ 0.1359,  0.0175, -0.0673,  ...,  0.0674,  0.0676,  0.1058],\n",
            "        [ 0.0790,  0.1343, -0.0293,  ...,  0.0344, -0.0971, -0.0509]],\n",
            "       requires_grad=True)\n"
          ]
        }
      ],
      "source": [
        "torch.manual_seed(123)\n",
        "model = NeuralNetwork(50,3)\n",
        "print(model.layers[0].weight)"
      ]
    },
    {
      "cell_type": "code",
      "execution_count": 15,
      "metadata": {
        "colab": {
          "base_uri": "https://localhost:8080/"
        },
        "id": "7CRmdF8GP-xL",
        "outputId": "7d23fce0-ce6d-4328-a786-4e9d6fcb9ece"
      },
      "outputs": [
        {
          "name": "stdout",
          "output_type": "stream",
          "text": [
            "tensor([[-0.1670,  0.1001, -0.1219]], grad_fn=<AddmmBackward0>)\n"
          ]
        }
      ],
      "source": [
        "X = torch.rand((1,50))\n",
        "out = model (X)\n",
        "print(out)"
      ]
    },
    {
      "cell_type": "code",
      "execution_count": null,
      "metadata": {
        "colab": {
          "base_uri": "https://localhost:8080/"
        },
        "id": "bPVawMtzRFaC",
        "outputId": "6a3c34fe-c229-4f34-ffb4-c4237635e44a"
      },
      "outputs": [
        {
          "name": "stdout",
          "output_type": "stream",
          "text": [
            "tensor([[0.2983, 0.3896, 0.3121]])\n"
          ]
        }
      ],
      "source": [
        "with torch.no_grad():\n",
        "    out = torch.softmax (model (X), dim = 1)\n",
        "print(out)"
      ]
    },
    {
      "cell_type": "code",
      "execution_count": 17,
      "metadata": {
        "id": "WSgaOA2HTE_a"
      },
      "outputs": [],
      "source": [
        "X_train = torch.tensor([\n",
        "    [-1.2, 3.1],\n",
        "    [-0.9, 2.9],\n",
        "    [-0.5, 2.6],\n",
        "    [2.3, -1.1],\n",
        "    [2.7, -1.5]\n",
        "])\n",
        "y_train = torch.tensor([0,0,0,1,1])\n",
        "\n",
        "X_test = torch.tensor([[-0.8, 2.8],[2.6, -106]])\n",
        "\n",
        "y_test = torch.tensor([0,1])\n"
      ]
    },
    {
      "cell_type": "code",
      "execution_count": 18,
      "metadata": {
        "id": "yufZsop5T1Hd"
      },
      "outputs": [],
      "source": [
        "from torch.utils.data import Dataset\n",
        "\n",
        "class ToyDataset(Dataset):\n",
        "    def __init__ (self, X, y):\n",
        "        self.features = X\n",
        "        self.labels = y\n",
        "\n",
        "    def __getitem__(self, index):\n",
        "        one_x = self.features[index]\n",
        "        one_y = self.labels[index]\n",
        "        return one_x, one_y\n",
        "    def __len__(self):\n",
        "        return self.labels.shape[0]\n",
        "train_ds = ToyDataset(X_train, y_train)\n",
        "test_ds = ToyDataset(X_test, y_test)"
      ]
    },
    {
      "cell_type": "code",
      "execution_count": 19,
      "metadata": {
        "colab": {
          "base_uri": "https://localhost:8080/"
        },
        "id": "aQGJlljAWK9W",
        "outputId": "d11245cd-2f1e-4352-b99f-0faf3c52a14e"
      },
      "outputs": [
        {
          "name": "stdout",
          "output_type": "stream",
          "text": [
            "5\n"
          ]
        }
      ],
      "source": [
        "print(len(train_ds))"
      ]
    },
    {
      "cell_type": "code",
      "execution_count": 20,
      "metadata": {
        "id": "4EbbrYMzWWyO"
      },
      "outputs": [],
      "source": [
        "from torch.utils.data import DataLoader\n",
        "\n",
        "torch.manual_seed(123)\n",
        "\n",
        "train_loader = DataLoader (\n",
        "    dataset = train_ds,\n",
        "    batch_size = 2,\n",
        "    shuffle = True,\n",
        "    num_workers = 0,\n",
        "    drop_last = True\n",
        ")\n",
        "\n",
        "test_loader = DataLoader(\n",
        "    dataset = test_ds,\n",
        "    batch_size = 2,\n",
        "    shuffle = False,\n",
        "    num_workers = 0\n",
        ")"
      ]
    },
    {
      "cell_type": "code",
      "execution_count": null,
      "metadata": {
        "colab": {
          "base_uri": "https://localhost:8080/"
        },
        "id": "reNcrZsfW8WY",
        "outputId": "72cce389-46ce-4290-9a02-2a553a7ccf8b"
      },
      "outputs": [
        {
          "name": "stdout",
          "output_type": "stream",
          "text": [
            "Batch 1: tensor([[ 2.3000, -1.1000],\n",
            "        [-0.9000,  2.9000]]) tensor([1, 0])\n",
            "Batch 2: tensor([[-1.2000,  3.1000],\n",
            "        [-0.5000,  2.6000]]) tensor([0, 0])\n"
          ]
        }
      ],
      "source": [
        "for idx, (x,y) in enumerate(train_loader):\n",
        "    print(f\"Batch {idx+1}:\", x ,y)"
      ]
    },
    {
      "cell_type": "code",
      "execution_count": 22,
      "metadata": {
        "colab": {
          "base_uri": "https://localhost:8080/"
        },
        "id": "2TKeaEv3Y0lo",
        "outputId": "8dc48004-5c12-45c7-8d4d-70262ade84d9"
      },
      "outputs": [
        {
          "name": "stdout",
          "output_type": "stream",
          "text": [
            "Epoch: 001/003 | Batch 000/002 | Train Loss: 0.75\n",
            "Epoch: 001/003 | Batch 001/002 | Train Loss: 0.65\n",
            "Epoch: 002/003 | Batch 000/002 | Train Loss: 0.44\n",
            "Epoch: 002/003 | Batch 001/002 | Train Loss: 0.13\n",
            "Epoch: 003/003 | Batch 000/002 | Train Loss: 0.03\n",
            "Epoch: 003/003 | Batch 001/002 | Train Loss: 0.00\n"
          ]
        }
      ],
      "source": [
        "import torch.nn.functional as F\n",
        "\n",
        "torch.manual_seed(123)\n",
        "\n",
        "model = NeuralNetwork(num_inputs=2, num_outputs=2)\n",
        "optimizer = torch.optim.SGD (model.parameters(), lr = 0.5)\n",
        "\n",
        "num_epochs = 3\n",
        "for epoch in range (num_epochs):\n",
        "\n",
        "    model.train()\n",
        "    for batch_idx, (features,labels) in enumerate(train_loader):\n",
        "        logits = model(features)\n",
        "\n",
        "        loss = F.cross_entropy(logits, labels)\n",
        "\n",
        "        optimizer.zero_grad()\n",
        "        loss.backward()\n",
        "        optimizer.step()\n",
        "\n",
        "        ### LOGGING\n",
        "        print(f\"Epoch: {epoch+1:03d}/{num_epochs:03d}\"\n",
        "        f\" | Batch {batch_idx:03d}/{len(train_loader):03d}\"\n",
        "        f\" | Train Loss: {loss:.2f}\")\n",
        "    model.eval()"
      ]
    },
    {
      "cell_type": "code",
      "execution_count": 23,
      "metadata": {
        "colab": {
          "base_uri": "https://localhost:8080/"
        },
        "id": "Q1muHhEIPDNS",
        "outputId": "4c89b372-3549-4312-abc4-a18de0ec2058"
      },
      "outputs": [
        {
          "name": "stdout",
          "output_type": "stream",
          "text": [
            "tensor([[ 2.8569, -4.1618],\n",
            "        [ 2.5382, -3.7548],\n",
            "        [ 2.0944, -3.1820],\n",
            "        [-1.4814,  1.4816],\n",
            "        [-1.7176,  1.7342]])\n"
          ]
        }
      ],
      "source": [
        "model.eval()\n",
        "with torch.no_grad():\n",
        "    outputs = model(X_train)\n",
        "print(outputs)"
      ]
    },
    {
      "cell_type": "code",
      "execution_count": null,
      "metadata": {
        "colab": {
          "base_uri": "https://localhost:8080/"
        },
        "id": "aaMJ9aSgPUWy",
        "outputId": "b4371901-4aef-4162-ad1c-51d74f6bfe0b"
      },
      "outputs": [
        {
          "name": "stdout",
          "output_type": "stream",
          "text": [
            "tensor([[    0.9991,     0.0009],\n",
            "        [    0.9982,     0.0018],\n",
            "        [    0.9949,     0.0051],\n",
            "        [    0.0491,     0.9509],\n",
            "        [    0.0307,     0.9693]])\n"
          ]
        }
      ],
      "source": [
        "torch.set_printoptions (sci_mode = False)\n",
        "probas = torch.softmax(outputs, dim =1)\n",
        "print (probas)"
      ]
    },
    {
      "cell_type": "code",
      "execution_count": 25,
      "metadata": {
        "colab": {
          "base_uri": "https://localhost:8080/"
        },
        "id": "Pi6Qbx_kTwCJ",
        "outputId": "830cf477-d4b4-4257-d8eb-51a5b319c65c"
      },
      "outputs": [
        {
          "name": "stdout",
          "output_type": "stream",
          "text": [
            "tensor([0, 0, 0, 1, 1])\n",
            "tensor([True, True, True, True, True])\n",
            "tensor(5)\n"
          ]
        }
      ],
      "source": [
        "predictions  = torch.argmax(probas, dim=1)\n",
        "print(predictions)\n",
        "print(predictions == y_train)\n",
        "print(torch.sum(predictions == y_train))"
      ]
    },
    {
      "cell_type": "code",
      "execution_count": 26,
      "metadata": {
        "id": "BTVIt-FyUdAo"
      },
      "outputs": [],
      "source": [
        "def compute_accuracy (model, dataloader):\n",
        "\n",
        "    model = model.eval()\n",
        "    correct = 0.0\n",
        "    total_examples = 0\n",
        "\n",
        "    for idx, (features, labels) in enumerate (dataloader):\n",
        "\n",
        "        with torch.no_grad():\n",
        "            logits = model(features)\n",
        "\n",
        "        predictions = torch.argmax(logits, dim = 1)\n",
        "        compare = labels ==predictions\n",
        "        correct += torch.sum(compare)\n",
        "        total_examples += len(compare)\n",
        "\n",
        "    return (correct / total_examples).item()"
      ]
    },
    {
      "cell_type": "code",
      "execution_count": null,
      "metadata": {
        "colab": {
          "base_uri": "https://localhost:8080/"
        },
        "id": "a8HqwLqJVGnT",
        "outputId": "5f6c6247-4a90-47ad-ff9a-01479903a65e"
      },
      "outputs": [
        {
          "name": "stdout",
          "output_type": "stream",
          "text": [
            "1.0\n"
          ]
        }
      ],
      "source": [
        "print(compute_accuracy(model, train_loader))"
      ]
    },
    {
      "cell_type": "code",
      "execution_count": 28,
      "metadata": {
        "colab": {
          "base_uri": "https://localhost:8080/"
        },
        "id": "UOoMjxxqVJfm",
        "outputId": "1d1f662e-c88e-4acd-b7f5-458d832fa822"
      },
      "outputs": [
        {
          "name": "stdout",
          "output_type": "stream",
          "text": [
            "1.0\n"
          ]
        }
      ],
      "source": [
        "print(compute_accuracy(model, test_loader))"
      ]
    },
    {
      "cell_type": "code",
      "execution_count": 29,
      "metadata": {
        "id": "g5OUfx5wVN8g"
      },
      "outputs": [],
      "source": [
        "torch.save(model.state_dict(), 'model.pth')"
      ]
    },
    {
      "cell_type": "code",
      "execution_count": null,
      "metadata": {
        "colab": {
          "base_uri": "https://localhost:8080/"
        },
        "id": "qSqTtw2VW6zc",
        "outputId": "3581108a-f34f-4a4d-aead-9e831d6e2559"
      },
      "outputs": [
        {
          "data": {
            "text/plain": [
              "<All keys matched successfully>"
            ]
          },
          "execution_count": 30,
          "metadata": {},
          "output_type": "execute_result"
        }
      ],
      "source": [
        "model = NeuralNetwork(2,2)\n",
        "model.load_state_dict(torch.load('model.pth', weights_only=1))"
      ]
    },
    {
      "cell_type": "code",
      "execution_count": 31,
      "metadata": {
        "id": "eDTGf5u7XFVP"
      },
      "outputs": [
        {
          "name": "stdout",
          "output_type": "stream",
          "text": [
            "True\n"
          ]
        }
      ],
      "source": [
        "print (torch.cuda.is_available())"
      ]
    },
    {
      "cell_type": "code",
      "execution_count": 32,
      "metadata": {},
      "outputs": [
        {
          "name": "stdout",
          "output_type": "stream",
          "text": [
            "tensor([5., 7., 9.])\n"
          ]
        }
      ],
      "source": [
        "tensor_1 = torch.tensor([1.,2.,3.])\n",
        "tensor_2 = torch.tensor([4.,5.,6.])\n",
        "print(tensor_1 + tensor_2)"
      ]
    },
    {
      "cell_type": "code",
      "execution_count": 33,
      "metadata": {},
      "outputs": [
        {
          "name": "stdout",
          "output_type": "stream",
          "text": [
            "tensor([5., 7., 9.], device='cuda:0')\n"
          ]
        }
      ],
      "source": [
        "tensor_1 = tensor_1.to('cuda')\n",
        "tensor_2 = tensor_2.to('cuda')\n",
        "print(tensor_1 + tensor_2)"
      ]
    },
    {
      "cell_type": "code",
      "execution_count": 34,
      "metadata": {},
      "outputs": [],
      "source": [
        "torch.manual_seed(123)\n",
        "model = NeuralNetwork(num_inputs = 2, num_outputs = 2)\n",
        "device = torch.device('cuda')\n",
        "model = model.to(device)\n",
        "\n",
        "optimiser = torch.optim.SGD(model.parameters(), lr = 0.5)\n",
        "\n",
        "num_epochs = 3\n",
        "\n",
        "for epoch in range(num_epochs):\n",
        "    model.train()\n",
        "    for batch_idx, (features, labels) in enumerate(train_loader):\n",
        "        features, labels = features.to(device), labels.to(device)\n",
        "        "
      ]
    }
  ],
  "metadata": {
    "accelerator": "GPU",
    "colab": {
      "gpuType": "T4",
      "provenance": []
    },
    "kernelspec": {
      "display_name": "Python 3",
      "name": "python3"
    },
    "language_info": {
      "codemirror_mode": {
        "name": "ipython",
        "version": 3
      },
      "file_extension": ".py",
      "mimetype": "text/x-python",
      "name": "python",
      "nbconvert_exporter": "python",
      "pygments_lexer": "ipython3",
      "version": "3.12.8"
    }
  },
  "nbformat": 4,
  "nbformat_minor": 0
}
