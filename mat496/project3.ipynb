{
 "cells": [
  {
   "cell_type": "code",
   "execution_count": 4,
   "id": "061edb7b",
   "metadata": {},
   "outputs": [
    {
     "name": "stderr",
     "output_type": "stream",
     "text": [
      "2025-05-03 23:58:39.001240: E external/local_xla/xla/stream_executor/cuda/cuda_fft.cc:467] Unable to register cuFFT factory: Attempting to register factory for plugin cuFFT when one has already been registered\n",
      "WARNING: All log messages before absl::InitializeLog() is called are written to STDERR\n",
      "E0000 00:00:1746316719.043252   71838 cuda_dnn.cc:8579] Unable to register cuDNN factory: Attempting to register factory for plugin cuDNN when one has already been registered\n",
      "E0000 00:00:1746316719.055282   71838 cuda_blas.cc:1407] Unable to register cuBLAS factory: Attempting to register factory for plugin cuBLAS when one has already been registered\n",
      "W0000 00:00:1746316719.121934   71838 computation_placer.cc:177] computation placer already registered. Please check linkage and avoid linking the same target more than once.\n",
      "W0000 00:00:1746316719.121975   71838 computation_placer.cc:177] computation placer already registered. Please check linkage and avoid linking the same target more than once.\n",
      "W0000 00:00:1746316719.121978   71838 computation_placer.cc:177] computation placer already registered. Please check linkage and avoid linking the same target more than once.\n",
      "W0000 00:00:1746316719.121979   71838 computation_placer.cc:177] computation placer already registered. Please check linkage and avoid linking the same target more than once.\n",
      "2025-05-03 23:58:39.140300: I tensorflow/core/platform/cpu_feature_guard.cc:210] This TensorFlow binary is optimized to use available CPU instructions in performance-critical operations.\n",
      "To enable the following instructions: AVX2 FMA, in other operations, rebuild TensorFlow with the appropriate compiler flags.\n"
     ]
    }
   ],
   "source": [
    "import random\n",
    "import torch\n",
    "from datasets import load_dataset\n",
    "from transformers import (\n",
    "    AutoTokenizer,\n",
    "    AutoModelForCausalLM,\n",
    "    TrainingArguments,\n",
    "    Trainer,\n",
    ")"
   ]
  },
  {
   "cell_type": "code",
   "execution_count": 5,
   "id": "1f50cddb",
   "metadata": {},
   "outputs": [],
   "source": [
    "checkpoint = \"HuggingFaceTB/SmolLM2-135M\"\n",
    "N = 1000  # number of rows in training set\n",
    "max_length = 256  # max length of input (in tokens)\n",
    "device = \"cuda\" if torch.cuda.is_available() else \"cpu\""
   ]
  },
  {
   "cell_type": "code",
   "execution_count": 3,
   "id": "9db13e0b",
   "metadata": {},
   "outputs": [
    {
     "name": "stdout",
     "output_type": "stream",
     "text": [
      "Loading dataset...\n",
      "Dataset length: 2585615\n"
     ]
    }
   ],
   "source": [
    "\n",
    "print(\"Loading dataset...\")\n",
    "dataset = load_dataset(\"MBZUAI/LaMini-instruction\", split=\"train\")\n",
    "dataset_length = len(dataset)\n",
    "print(f\"Dataset length: {dataset_length}\")\n",
    "\n",
    "# to reduce training time, we reduce the size of the dataset\n",
    "# we simply pick N random rows to be our training dataset,\n",
    "# N/4 random rows to be our test dataset\n",
    "# there is no intersection in these two datasets\n",
    "all_indices = random.sample(range(dataset_length), N + N // 4)\n",
    "train_indices = all_indices[:N]\n",
    "test_indices = all_indices[N:]\n",
    "\n",
    "train_dataset = dataset.select(train_indices)\n",
    "test_dataset = dataset.select(test_indices)"
   ]
  },
  {
   "cell_type": "code",
   "execution_count": 4,
   "id": "72b8f1da",
   "metadata": {},
   "outputs": [
    {
     "data": {
      "application/vnd.jupyter.widget-view+json": {
       "model_id": "ed96abc8beef4a8cb939260cb20347eb",
       "version_major": 2,
       "version_minor": 0
      },
      "text/plain": [
       "Map:   0%|          | 0/1000 [00:00<?, ? examples/s]"
      ]
     },
     "metadata": {},
     "output_type": "display_data"
    },
    {
     "data": {
      "application/vnd.jupyter.widget-view+json": {
       "model_id": "742da0bae528439fa71c1ed7dfee76f5",
       "version_major": 2,
       "version_minor": 0
      },
      "text/plain": [
       "Map:   0%|          | 0/250 [00:00<?, ? examples/s]"
      ]
     },
     "metadata": {},
     "output_type": "display_data"
    }
   ],
   "source": [
    "# each instruction-response pair is combined and formatted into a single 'text' input for the LLM\n",
    "def format_example(example):\n",
    "    return {\n",
    "        \"text\": f\"Directive ==>>==>>\\n{example['instruction']}\\n\\nResponse ==>>==>>\\n{example['response']}\"\n",
    "    }\n",
    "\n",
    "train_dataset = train_dataset.map(format_example)\n",
    "test_dataset = test_dataset.map(format_example)"
   ]
  },
  {
   "cell_type": "code",
   "execution_count": 5,
   "id": "936421be",
   "metadata": {},
   "outputs": [
    {
     "name": "stdout",
     "output_type": "stream",
     "text": [
      ">>> instruction \n",
      " The Lord of the Rings is an epic high fantasy novel written by English author and scholar J.R.R. Tolkien. The story began as a sequel to Tolkien's 1937 fantasy novel The Hobbit, but eventually developed into a much larger work. Written in stages between 1937 and 1949, The Lord of the Rings is one of the best-selling novels ever written, with over 150 million copies sold.\n",
      "Answer this question, making sure that the answer is supposed by the text: did lord of the rings come before the hobbit?\n",
      "\n",
      "OPTIONS:\n",
      "- no\n",
      "- yes \n",
      "\n",
      "\n",
      ">>> response \n",
      " According to the provided text, The Hobbit was written before The Lord of the Rings, so the answer is NO. \n",
      "\n",
      "\n",
      ">>> instruction_source \n",
      " original_flan \n",
      "\n",
      "\n",
      ">>> text \n",
      " Directive ==>>==>>\n",
      "The Lord of the Rings is an epic high fantasy novel written by English author and scholar J.R.R. Tolkien. The story began as a sequel to Tolkien's 1937 fantasy novel The Hobbit, but eventually developed into a much larger work. Written in stages between 1937 and 1949, The Lord of the Rings is one of the best-selling novels ever written, with over 150 million copies sold.\n",
      "Answer this question, making sure that the answer is supposed by the text: did lord of the rings come before the hobbit?\n",
      "\n",
      "OPTIONS:\n",
      "- no\n",
      "- yes\n",
      "\n",
      "Response ==>>==>>\n",
      "According to the provided text, The Hobbit was written before The Lord of the Rings, so the answer is NO. \n",
      "\n",
      "\n"
     ]
    }
   ],
   "source": [
    "# Print a sample in the dataset\n",
    "# The last field - 'text' - contains the formatted input for our LLM\n",
    "for i in train_dataset[0]:\n",
    "    print('>>>',i, '\\n', train_dataset[0][i], '\\n\\n')"
   ]
  },
  {
   "cell_type": "code",
   "execution_count": 6,
   "id": "615fc214",
   "metadata": {},
   "outputs": [
    {
     "name": "stdout",
     "output_type": "stream",
     "text": [
      "Tokenizing...\n"
     ]
    },
    {
     "data": {
      "application/vnd.jupyter.widget-view+json": {
       "model_id": "d66a5f89ce42438c9ec016b64eba66ec",
       "version_major": 2,
       "version_minor": 0
      },
      "text/plain": [
       "Map:   0%|          | 0/1000 [00:00<?, ? examples/s]"
      ]
     },
     "metadata": {},
     "output_type": "display_data"
    },
    {
     "data": {
      "application/vnd.jupyter.widget-view+json": {
       "model_id": "336f2ae9d9a64b25ac6f3812a9c90eb5",
       "version_major": 2,
       "version_minor": 0
      },
      "text/plain": [
       "Map:   0%|          | 0/250 [00:00<?, ? examples/s]"
      ]
     },
     "metadata": {},
     "output_type": "display_data"
    }
   ],
   "source": [
    "# Tokenizer: The padding token is the same as the EOS token\n",
    "print(\"Tokenizing...\")\n",
    "tokenizer = AutoTokenizer.from_pretrained(checkpoint)\n",
    "tokenizer.pad_token = tokenizer.eos_token \n",
    "\n",
    "# The collation step is handled here, the text is truncated to a max token length of 256\n",
    "# Any shorter samples are padded with EOS token to make them 256 tokens long\n",
    "def tokenize(example):\n",
    "    encoding = tokenizer(\n",
    "        example[\"text\"],\n",
    "        truncation=True,\n",
    "        padding=\"max_length\",\n",
    "        max_length=max_length,\n",
    "    )\n",
    "    encoding[\"labels\"] = encoding[\"input_ids\"].copy()\n",
    "    return encoding\n",
    "\n",
    "tokenized_train_dataset = train_dataset.map(tokenize, batched=True)\n",
    "tokenized_test_dataset = test_dataset.map(tokenize, batched=True)\n",
    "\n",
    "tokenized_train_dataset.set_format(type=\"torch\", columns=[\"input_ids\", \"attention_mask\", \"labels\"])\n",
    "tokenized_test_dataset.set_format(type=\"torch\", columns=[\"input_ids\", \"attention_mask\", \"labels\"])"
   ]
  },
  {
   "cell_type": "code",
   "execution_count": 7,
   "id": "1e54dfb8",
   "metadata": {},
   "outputs": [
    {
     "name": "stdout",
     "output_type": "stream",
     "text": [
      "Loading model...\n"
     ]
    }
   ],
   "source": [
    "print(\"Loading model...\")\n",
    "model = AutoModelForCausalLM.from_pretrained(checkpoint).to(device)"
   ]
  },
  {
   "cell_type": "code",
   "execution_count": null,
   "id": "3baa6080",
   "metadata": {},
   "outputs": [
    {
     "name": "stderr",
     "output_type": "stream",
     "text": [
      "/tmp/ipykernel_68528/2040495758.py:13: FutureWarning: `tokenizer` is deprecated and will be removed in version 5.0.0 for `Trainer.__init__`. Use `processing_class` instead.\n",
      "  trainer = Trainer(\n"
     ]
    },
    {
     "name": "stdout",
     "output_type": "stream",
     "text": [
      "Training...\n"
     ]
    },
    {
     "data": {
      "text/html": [
       "\n",
       "    <div>\n",
       "      \n",
       "      <progress value='500' max='500' style='width:300px; height:20px; vertical-align: middle;'></progress>\n",
       "      [500/500 03:42, Epoch 1/1]\n",
       "    </div>\n",
       "    <table border=\"1\" class=\"dataframe\">\n",
       "  <thead>\n",
       " <tr style=\"text-align: left;\">\n",
       "      <th>Step</th>\n",
       "      <th>Training Loss</th>\n",
       "      <th>Validation Loss</th>\n",
       "    </tr>\n",
       "  </thead>\n",
       "  <tbody>\n",
       "    <tr>\n",
       "      <td>50</td>\n",
       "      <td>1.492400</td>\n",
       "      <td>0.846392</td>\n",
       "    </tr>\n",
       "    <tr>\n",
       "      <td>100</td>\n",
       "      <td>0.901300</td>\n",
       "      <td>0.823873</td>\n",
       "    </tr>\n",
       "    <tr>\n",
       "      <td>150</td>\n",
       "      <td>0.885600</td>\n",
       "      <td>0.811850</td>\n",
       "    </tr>\n",
       "    <tr>\n",
       "      <td>200</td>\n",
       "      <td>0.912400</td>\n",
       "      <td>0.801256</td>\n",
       "    </tr>\n",
       "    <tr>\n",
       "      <td>250</td>\n",
       "      <td>0.805200</td>\n",
       "      <td>0.796600</td>\n",
       "    </tr>\n",
       "    <tr>\n",
       "      <td>300</td>\n",
       "      <td>0.865700</td>\n",
       "      <td>0.792396</td>\n",
       "    </tr>\n",
       "    <tr>\n",
       "      <td>350</td>\n",
       "      <td>0.856200</td>\n",
       "      <td>0.788687</td>\n",
       "    </tr>\n",
       "    <tr>\n",
       "      <td>400</td>\n",
       "      <td>0.822200</td>\n",
       "      <td>0.786057</td>\n",
       "    </tr>\n",
       "    <tr>\n",
       "      <td>450</td>\n",
       "      <td>0.786000</td>\n",
       "      <td>0.783925</td>\n",
       "    </tr>\n",
       "    <tr>\n",
       "      <td>500</td>\n",
       "      <td>0.916800</td>\n",
       "      <td>0.783384</td>\n",
       "    </tr>\n",
       "  </tbody>\n",
       "</table><p>"
      ],
      "text/plain": [
       "<IPython.core.display.HTML object>"
      ]
     },
     "metadata": {},
     "output_type": "display_data"
    },
    {
     "name": "stdout",
     "output_type": "stream",
     "text": [
      "Saving model...\n",
      "Done.\n"
     ]
    }
   ],
   "source": [
    "training_args = TrainingArguments(\n",
    "    output_dir=\"./smol-finetuned\",\n",
    "    per_device_train_batch_size=2,\n",
    "    num_train_epochs=1,\n",
    "    logging_steps=50,\n",
    "    eval_steps=50,\n",
    "    eval_strategy=\"steps\", # this ensures that evaulation/validation is done at each step (10 batches), instead of after every epoch\n",
    "    save_strategy=\"no\",\n",
    "    report_to=\"none\",\n",
    ")\n",
    "\n",
    "trainer = Trainer(\n",
    "    model=model,\n",
    "    args=training_args,\n",
    "    train_dataset=tokenized_train_dataset,\n",
    "    eval_dataset=tokenized_test_dataset,\n",
    "    tokenizer=tokenizer,\n",
    ")\n",
    "\n",
    "print(\"Training...\")\n",
    "trainer.train()\n",
    "\n",
    "print(\"Saving model...\")\n",
    "model.save_pretrained(\"./smol-finetuned\")\n",
    "tokenizer.save_pretrained(\"./smol-finetuned\")\n",
    "print(\"Done.\")"
   ]
  },
  {
   "cell_type": "code",
   "execution_count": 11,
   "id": "591acded",
   "metadata": {},
   "outputs": [
    {
     "data": {
      "image/png": "[encoded data removed]",
      "text/plain": [
       "<Figure size 1000x600 with 1 Axes>"
      ]
     },
     "metadata": {},
     "output_type": "display_data"
    }
   ],
   "source": [
    "import matplotlib.pyplot as plt\n",
    "\n",
    "logs = trainer.state.log_history\n",
    "train_steps, train_losses, val_losses = [], [], []\n",
    "\n",
    "for entry in logs:\n",
    "    if \"loss\" in entry and \"step\" in entry:\n",
    "        train_steps.append(entry[\"step\"])\n",
    "        train_losses.append(entry[\"loss\"])\n",
    "    if \"eval_loss\" in entry and \"step\" in entry:\n",
    "        val_losses.append(entry[\"eval_loss\"])\n",
    "\n",
    "# Plot\n",
    "plt.figure(figsize=(10, 6))\n",
    "plt.plot(train_steps, train_losses, label=\"Training Loss\")\n",
    "plt.plot(train_steps[:len(val_losses)], [i*1 for i in val_losses], label=\"Validation Loss\")\n",
    "plt.xlabel(\"Steps\")\n",
    "plt.ylabel(\"Loss\")\n",
    "plt.title(\"Training vs Validation Loss\")\n",
    "plt.legend()\n",
    "plt.grid(True)\n",
    "plt.show()"
   ]
  },
  {
   "cell_type": "code",
   "execution_count": null,
   "id": "ee4b2261",
   "metadata": {},
   "outputs": [],
   "source": [
    "def generate_response(instruction: str, model_path: str = \"./smol-finetuned\", max_length: int = 128, device: str = \"cuda\"):\n",
    "\n",
    "\n",
    "    # Load model and tokenizer\n",
    "    tokenizer = AutoTokenizer.from_pretrained(model_path)\n",
    "    model = AutoModelForCausalLM.from_pretrained(model_path).to(device)\n",
    "    # Format instruction using your custom template\n",
    "    input_text = f\"Directive ==>>==>>\\n{instruction.strip()}\\n\\nResponse ==>>==>>\"\n",
    "    input_ids = tokenizer.encode(input_text, return_tensors=\"pt\").to(device)\n",
    "    \n",
    "    # Generate response\n",
    "    with torch.no_grad():\n",
    "        output_ids = model.generate(\n",
    "            input_ids,\n",
    "            max_length=max_length,\n",
    "            pad_token_id=tokenizer.eos_token_id,\n",
    "            do_sample=False,\n",
    "        )\n",
    "\n",
    "    # Decode and clean up\n",
    "    full_output = tokenizer.decode(output_ids[0], skip_special_tokens=True)\n",
    "    response = full_output[len(input_text):].strip() if full_output.startswith(input_text) else full_output.strip()\n",
    "\n",
    "    return response\n"
   ]
  },
  {
   "cell_type": "code",
   "execution_count": 35,
   "id": "53b657b5",
   "metadata": {},
   "outputs": [
    {
     "name": "stdout",
     "output_type": "stream",
     "text": [
      "Response: Directive ==>>==>>\n",
      "Why does the sun shine?\n",
      "\n",
      "Response ==>>==>>\n",
      "The sun shines because it is a star, and because it is a star that is shining.\n"
     ]
    }
   ],
   "source": [
    "reply = generate_response(\"Why does the sun shine?\")\n",
    "print(\"Response:\", reply)\n"
   ]
  }
 ],
 "metadata": {
  "kernelspec": {
   "display_name": "Python 3",
   "language": "python",
   "name": "python3"
  },
  "language_info": {
   "codemirror_mode": {
    "name": "ipython",
    "version": 3
   },
   "file_extension": ".py",
   "mimetype": "text/x-python",
   "name": "python",
   "nbconvert_exporter": "python",
   "pygments_lexer": "ipython3",
   "version": "3.12.8"
  }
 },
 "nbformat": 4,
 "nbformat_minor": 5
}
